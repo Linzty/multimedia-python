{
 "cells": [
  {
   "cell_type": "code",
   "execution_count": null,
   "metadata": {},
   "outputs": [],
   "source": [
    "import tkinter as tk\n",
    "\n",
    "# Membuat jendela utama\n",
    "root = tk.Tk()\n",
    "root.title(\"Multimedia Application\")\n",
    "\n",
    "from PIL import Image, ImageTk\n",
    "\n",
    "# Memuat gambar menggunakan Pillow\n",
    "image = Image.open('Gambar/sf90.jpg')\n",
    "photo = ImageTk.PhotoImage(image)\n",
    "\n",
    "# Membuat label untuk menampilkan gambar\n",
    "label = tk.Label(root, image=photo)\n",
    "label.pack()\n",
    "\n",
    "# Menjalankan loop acara Tkinter\n",
    "root.mainloop()"
   ]
  },
  {
   "cell_type": "code",
   "execution_count": 1,
   "metadata": {},
   "outputs": [
    {
     "name": "stderr",
     "output_type": "stream",
     "text": [
      "c:\\Users\\micha\\AppData\\Local\\Programs\\Python\\Python312\\Lib\\site-packages\\pydub\\utils.py:170: RuntimeWarning: Couldn't find ffmpeg or avconv - defaulting to ffmpeg, but may not work\n",
      "  warn(\"Couldn't find ffmpeg or avconv - defaulting to ffmpeg, but may not work\", RuntimeWarning)\n"
     ]
    }
   ],
   "source": [
    "\n",
    "import tkinter as tk\n",
    "\n",
    "# Membuat jendela utama\n",
    "root = tk.Tk()\n",
    "root.title(\"Multimedia Application\")\n",
    "\n",
    "from tkinter import filedialog\n",
    "from pydub import AudioSegment\n",
    "from pydub.playback import play\n",
    "\n",
    "# Definisikan fungsi untuk memutar musik\n",
    "def play_music():\n",
    "    file_path = filedialog.askopenfilename()\n",
    "    if file_path:\n",
    "        audio = AudioSegment.from_file('audio/See You Again Bardcore.mp3')\n",
    "        play(audio)\n",
    "\n",
    "# Membuat tombol untuk memutar musik\n",
    "play_button = tk.Button(root, text=\"Play\", command=play_music)\n",
    "play_button.pack()\n",
    "\n",
    "# Menjalankan loop acara Tkinter\n",
    "root.mainloop()"
   ]
  }
 ],
 "metadata": {
  "kernelspec": {
   "display_name": "Python 3",
   "language": "python",
   "name": "python3"
  },
  "language_info": {
   "codemirror_mode": {
    "name": "ipython",
    "version": 3
   },
   "file_extension": ".py",
   "mimetype": "text/x-python",
   "name": "python",
   "nbconvert_exporter": "python",
   "pygments_lexer": "ipython3",
   "version": "3.12.4"
  }
 },
 "nbformat": 4,
 "nbformat_minor": 2
}
